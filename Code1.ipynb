{
 "cells": [
  {
   "cell_type": "code",
   "execution_count": null,
   "id": "dd48a225",
   "metadata": {},
   "outputs": [],
   "source": [
    "import pandas as pd\n",
    "from sklearn import tree\n",
    "\n",
    "train = pd.read_csv(\"train_dataset.csv\")\n",
    "test = pd.read_csv(\"test.csv\")\n",
    "\n",
    "train[\"sim_number\"] = train[\"sim_number\"].astype(str)\n",
    "test[\"sim_number\"] = test[\"sim_number\"].astype(str)\n",
    "\n",
    "train[\"digit1\"] = train[\"sim_number\"].str[0]\n",
    "train[\"digit2\"] = train[\"sim_number\"].str[1]\n",
    "train[\"digit3\"] = train[\"sim_number\"].str[2]\n",
    "train[\"digit4\"] = train[\"sim_number\"].str[3]\n",
    "train[\"digit5\"] = train[\"sim_number\"].str[4]\n",
    "train[\"digit6\"] = train[\"sim_number\"].str[5]\n",
    "train[\"digit7\"] = train[\"sim_number\"].str[6]\n",
    "train[\"digit8\"] = train[\"sim_number\"].str[7]\n",
    "train[\"digit9\"] = train[\"sim_number\"].str[8]\n",
    "\n",
    "test[\"digit1\"] = test[\"sim_number\"].str[0]\n",
    "test[\"digit2\"] = test[\"sim_number\"].str[1]\n",
    "test[\"digit3\"] = test[\"sim_number\"].str[2]\n",
    "test[\"digit4\"] = test[\"sim_number\"].str[3]\n",
    "test[\"digit5\"] = test[\"sim_number\"].str[4]\n",
    "test[\"digit6\"] = test[\"sim_number\"].str[5]\n",
    "test[\"digit7\"] = test[\"sim_number\"].str[6]\n",
    "test[\"digit8\"] = test[\"sim_number\"].str[7]\n",
    "test[\"digit9\"] = test[\"sim_number\"].str[8]\n",
    "\n",
    "sim1 = train.drop(columns= [\"price_vnd\", \"sim_number\"])\n",
    "sim2 = test.drop(columns= [\"sim_number\"])\n",
    "vnd1 = train[\"price_vnd\"]\n",
    "\n",
    "sim1"
   ]
  },
  {
   "cell_type": "code",
   "execution_count": null,
   "id": "cfd29da2",
   "metadata": {},
   "outputs": [],
   "source": [
    "sim2"
   ]
  },
  {
   "cell_type": "code",
   "execution_count": null,
   "id": "4b2972a3",
   "metadata": {},
   "outputs": [],
   "source": [
    "model = tree.DecisionTreeClassifier()\n",
    "model.fit(sim1, vnd1)\n",
    "vnd2 = model.predict(sim2)\n",
    "\n",
    "test[\"price_vnd\"] = vnd2\n",
    "test.to_csv(\"result1.csv\", index=False)\n",
    "\n",
    "result = pd.read_csv(\"result1.csv\")\n",
    "result = result.drop(columns= [\"digit1\",\"digit2\",\"digit3\",\"digit4\",\"digit5\",\"digit6\",\"digit7\",\"digit8\",\"digit9\"])\n",
    "result.to_csv(\"result1.csv\", index=False)\n",
    "\n",
    "result"
   ]
  }
 ],
 "metadata": {
  "kernelspec": {
   "display_name": "Python 3 (ipykernel)",
   "language": "python",
   "name": "python3"
  },
  "language_info": {
   "codemirror_mode": {
    "name": "ipython",
    "version": 3
   },
   "file_extension": ".py",
   "mimetype": "text/x-python",
   "name": "python",
   "nbconvert_exporter": "python",
   "pygments_lexer": "ipython3",
   "version": "3.11.1"
  },
  "vscode": {
   "interpreter": {
    "hash": "4fa407af4dfbfb5eaad4e9866ee81f5aca8419b5065cd7df0e5015a0b1672166"
   }
  }
 },
 "nbformat": 4,
 "nbformat_minor": 5
}
